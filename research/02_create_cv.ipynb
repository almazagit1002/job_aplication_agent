{
 "cells": [
  {
   "cell_type": "code",
   "execution_count": 3,
   "metadata": {},
   "outputs": [],
   "source": [
    "import os"
   ]
  },
  {
   "cell_type": "code",
   "execution_count": 4,
   "metadata": {},
   "outputs": [
    {
     "data": {
      "text/plain": [
       "'c:\\\\Users\\\\Maza\\\\Desktop\\\\job_aplication_agent'"
      ]
     },
     "execution_count": 4,
     "metadata": {},
     "output_type": "execute_result"
    }
   ],
   "source": [
    "os.chdir(\"../\")\n",
    "%pwd"
   ]
  },
  {
   "cell_type": "code",
   "execution_count": 26,
   "metadata": {},
   "outputs": [],
   "source": [
    "from dataclasses import dataclass, field\n",
    "from pathlib import Path\n",
    "from typing import Union\n",
    "\n",
    "@dataclass(frozen=True)\n",
    "class CVConfig:\n",
    "    CV_file: Union[Path, str]\n",
    "    job_description: Union[Path, str]\n",
    "    qualifications: Union[Path, str]\n",
    "    contact_info: Union[Path, str]\n",
    "    about_me: Union[Path, str]\n",
    "    education: Union[Path, str]\n",
    "    experience: Union[Path, str]\n",
    "    model: str\n",
    "\n",
    "    def __post_init__(self):\n",
    "        # Convert string paths to Path objects\n",
    "        object.__setattr__(self, 'CV_file', Path(self.CV_file))\n",
    "        object.__setattr__(self, 'job_description', Path(self.job_description))\n",
    "        object.__setattr__(self, 'qualifications', Path(self.qualifications))\n",
    "        object.__setattr__(self, 'contact_info', Path(self.contact_info))\n",
    "        object.__setattr__(self, 'about_me', Path(self.about_me))\n",
    "        object.__setattr__(self, 'education', Path(self.education))\n",
    "        object.__setattr__(self, 'experience', Path(self.experience))\n"
   ]
  },
  {
   "cell_type": "code",
   "execution_count": 27,
   "metadata": {},
   "outputs": [
    {
     "data": {
      "text/plain": [
       "True"
      ]
     },
     "execution_count": 27,
     "metadata": {},
     "output_type": "execute_result"
    }
   ],
   "source": [
    "from dotenv import load_dotenv\n",
    "from pathlib import Path\n",
    "\n",
    "\n",
    "from langchain_groq import ChatGroq\n",
    "from langchain_core.prompts import PromptTemplate\n",
    "from langchain_core.output_parsers import StrOutputParser,JsonOutputParser\n",
    "\n",
    "from job_aplication_agent.utils.common import  load_json,read_yaml\n",
    "from job_aplication_agent import logger\n",
    "from job_aplication_agent.constants import *\n",
    "load_dotenv()"
   ]
  },
  {
   "cell_type": "code",
   "execution_count": 28,
   "metadata": {},
   "outputs": [],
   "source": [
    "class ConfigurationManager:\n",
    "    def __init__(\n",
    "        self,\n",
    "        config_filepath = CONFIG_FILE_PATH,\n",
    "        models_filepath = MODELS_FILE_PATH,\n",
    "        prompt_template = PROMPT_FILE_PATH):\n",
    "        self.config = read_yaml(config_filepath)\n",
    "        self.models = read_yaml(models_filepath)\n",
    "        self.prompt_template = read_yaml(prompt_template)\n",
    "    \n",
    "        \n",
    "\n",
    "    \n",
    "    def get_CV_config(self) -> CVConfig:\n",
    "        \"\"\"\n",
    "        \n",
    "        Returns:\n",
    "            \n",
    "        \"\"\"\n",
    "        \n",
    "        CV_config = self.config.CV\n",
    "        # prompt_template = self.prompt_template\n",
    "        \n",
    "        create_CV_config = CVConfig(\n",
    "            CV_file= CV_config.CV_file,\n",
    "            job_description= CV_config.job_description,\n",
    "            qualifications= CV_config.qualifications,\n",
    "            contact_info=CV_config.contact_info,\n",
    "            about_me=CV_config.about_me,\n",
    "            education=CV_config.education,\n",
    "            experience=CV_config.experience,\n",
    "            model= self.models.Llama3\n",
    "\n",
    "           \n",
    "        ) \n",
    "\n",
    "        return create_CV_config"
   ]
  },
  {
   "cell_type": "code",
   "execution_count": 29,
   "metadata": {},
   "outputs": [
    {
     "name": "stdout",
     "output_type": "stream",
     "text": [
      "[2024-06-27 15:44:43,842: INFO: common: yaml file: config\\config.yaml loaded successfully:]\n",
      "[2024-06-27 15:44:43,844: INFO: common: yaml file: models.yaml loaded successfully:]\n",
      "[2024-06-27 15:44:43,847: INFO: common: yaml file: prompt_template.yaml loaded successfully:]\n",
      "prompt_text_inputs\\job_description.txt\n"
     ]
    }
   ],
   "source": [
    "config = ConfigurationManager()\n",
    "cv_config = config.get_CV_config()\n"
   ]
  },
  {
   "cell_type": "code",
   "execution_count": 31,
   "metadata": {},
   "outputs": [
    {
     "data": {
      "text/plain": [
       "pathlib.WindowsPath"
      ]
     },
     "execution_count": 31,
     "metadata": {},
     "output_type": "execute_result"
    }
   ],
   "source": [
    "type(cv_config.job_description)"
   ]
  },
  {
   "cell_type": "code",
   "execution_count": 32,
   "metadata": {},
   "outputs": [],
   "source": [
    "with open(cv_config.CV_file, 'r') as file:\n",
    "    content = file.readlines()"
   ]
  },
  {
   "cell_type": "code",
   "execution_count": 33,
   "metadata": {},
   "outputs": [
    {
     "data": {
      "text/plain": [
       "['\\\\documentclass[letterpaper,10pt]{article}\\n',\n",
       " '\\n',\n",
       " '\\\\usepackage{latexsym}\\n',\n",
       " '\\\\usepackage[empty]{fullpage}\\n',\n",
       " '\\\\usepackage{titlesec}\\n',\n",
       " '\\\\usepackage{marvosym}\\n',\n",
       " '\\\\usepackage[usenames,dvipsnames]{color}\\n',\n",
       " '\\\\usepackage{verbatim}\\n',\n",
       " '\\\\usepackage{enumitem}\\n',\n",
       " '\\\\usepackage[hidelinks]{hyperref}\\n',\n",
       " '\\\\usepackage{fancyhdr}\\n',\n",
       " '\\\\usepackage[english]{babel}\\n',\n",
       " '\\\\usepackage{tabularx}\\n',\n",
       " '\\\\input{glyphtounicode}\\n',\n",
       " '\\n',\n",
       " '% Font options\\n',\n",
       " '\\\\usepackage[sfdefault]{roboto}  % Sans-serif font\\n',\n",
       " '\\n',\n",
       " '\\\\pagestyle{fancy}\\n',\n",
       " '\\\\fancyhf{}\\n',\n",
       " '\\\\fancyfoot{}\\n',\n",
       " '\\\\renewcommand{\\\\headrulewidth}{0pt}\\n',\n",
       " '\\\\renewcommand{\\\\footrulewidth}{0pt}\\n',\n",
       " '\\n',\n",
       " '\\\\addtolength{\\\\oddsidemargin}{-0.5in}\\n',\n",
       " '\\\\addtolength{\\\\evensidemargin}{-0.5in}\\n',\n",
       " '\\\\addtolength{\\\\textwidth}{1in}\\n',\n",
       " '\\\\addtolength{\\\\topmargin}{-.5in}\\n',\n",
       " '\\\\addtolength{\\\\textheight}{1.0in}\\n',\n",
       " '\\n',\n",
       " '\\\\urlstyle{same}\\n',\n",
       " '\\\\raggedbottom\\n',\n",
       " '\\\\raggedright\\n',\n",
       " '\\\\setlength{\\\\tabcolsep}{0in}\\n',\n",
       " '\\n',\n",
       " '% Section formatting\\n',\n",
       " '\\\\titleformat{\\\\section}{\\\\Large\\\\bfseries\\\\scshape\\\\raggedright}{}{0em}{}[\\\\titlerule]\\n',\n",
       " '\\n',\n",
       " '% Ensure PDF is machine readable\\n',\n",
       " '\\\\pdfgentounicode=1\\n',\n",
       " '\\n',\n",
       " '% Custom commands\\n',\n",
       " '\\\\newcommand{\\\\resumeItem}[1]{\\\\item\\\\small{#1}}\\n',\n",
       " '\\\\newcommand{\\\\resumeSubheading}[4]{\\n',\n",
       " '\\\\vspace{-1pt}\\\\item\\n',\n",
       " '  \\\\begin{tabular*}{0.97\\\\textwidth}[t]{l@{\\\\extracolsep{\\\\fill}}r}\\n',\n",
       " '    \\\\textbf{#1} & #2 \\\\\\\\\\n',\n",
       " '    \\\\textit{#3} & \\\\textit{#4} \\\\\\\\\\n',\n",
       " '  \\\\end{tabular*}\\\\vspace{-7pt}\\n',\n",
       " '}\\n',\n",
       " '\\\\renewcommand\\\\labelitemii{$\\\\vcenter{\\\\hbox{\\\\tiny$\\\\bullet$}}$}\\n',\n",
       " '\\\\newcommand{\\\\resumeSubHeadingList}{\\\\begin{itemize}[leftmargin=0.15in, label={}]}\\n',\n",
       " '\\\\newcommand{\\\\resumeSubHeadingListEnd}{\\\\end{itemize}}\\n',\n",
       " '\\n',\n",
       " '\\\\begin{document}\\n',\n",
       " '\\n',\n",
       " '\\\\begin{center}\\n',\n",
       " '  \\\\textbf{\\\\Huge Alex Webb} \\\\\\\\\\n',\n",
       " '  \\\\small 555-123-4567 $|$ \\\\href{mailto:alex@email.com}{alex@email.com} $|$ \\n',\n",
       " '  \\\\href{https://linkedin.com/in/burhan-webb}{linkedin.com/in/alexwebbx} $|$\\n',\n",
       " '  \\\\href{https://github.com/zwayth}{github.com/alexwebbx}\\n',\n",
       " '\\\\end{center}\\n',\n",
       " '\\n',\n",
       " '\\\\section*{Summary}\\n',\n",
       " 'Passionate AI/ML engineer with a strong background in deep learning, computer vision, and natural language processing. Skilled in Python, TensorFlow, PyTorch, and various ML libraries. Excellent problem-solving, research, and collaboration abilities. Seeking a challenging role to develop cutting-edge AI solutions.\\n',\n",
       " '\\n',\n",
       " '\\\\section{Technical Skills}\\n',\n",
       " '\\\\resumeSubHeadingList\\n',\n",
       " '  \\\\resumeItem{\\\\textbf{Programming Languages}: Python, C++, SQL, MATLAB}\\n',\n",
       " '  \\\\resumeItem{\\\\textbf{Deep Learning Frameworks}: TensorFlow, PyTorch, Keras, Caffe}\\n',\n",
       " '  \\\\resumeItem{\\\\textbf{Libraries \\\\& Tools}: NumPy, Pandas, Scikit-learn, OpenCV, NLTK, Git, Docker}\\n',\n",
       " '\\\\resumeSubHeadingListEnd\\n',\n",
       " '\\n',\n",
       " '\\\\section{Projects}\\n',\n",
       " '\\\\resumeSubHeadingList\\n',\n",
       " '  \\\\resumeSubheading\\n',\n",
       " '      {Image Captioning System}{Jan 2023 -- Present}\\n',\n",
       " '      {Deep Learning Project}{Python, TensorFlow, OpenCV}\\n',\n",
       " '      \\\\resumeSubHeadingList\\n',\n",
       " '          \\\\resumeItem{\\\\textbullet\\\\ Developed an end-to-end system for generating descriptive captions for images}\\n',\n",
       " '          \\\\resumeItem{\\\\textbullet\\\\ Utilized CNN and LSTM models for image feature extraction and caption generation}\\n',\n",
       " '          \\\\resumeItem{\\\\textbullet\\\\ Achieved state-of-the-art performance on the COCO dataset}\\n',\n",
       " '      \\\\resumeSubHeadingListEnd\\n',\n",
       " '  \\\\resumeSubheading\\n',\n",
       " '      {Sentiment Analysis API}{Aug 2022 -- Dec 2022} \\n',\n",
       " '      {Natural Language Processing}{Python, Flask, NLTK, Hugging Face}\\n',\n",
       " '      \\\\resumeSubHeadingList\\n',\n",
       " '          \\\\resumeItem{\\\\textbullet\\\\ Built a RESTful API for sentiment analysis of text data}\\n',\n",
       " '          \\\\resumeItem{\\\\textbullet\\\\ Implemented pre-trained transformer models using Hugging Face}\\n',\n",
       " '          \\\\resumeItem{\\\\textbullet\\\\ Deployed the API on a cloud platform for easy integration}\\n',\n",
       " '      \\\\resumeSubHeadingListEnd\\n',\n",
       " '\\\\resumeSubHeadingListEnd\\n',\n",
       " '\\n',\n",
       " '\\\\section{Experience}\\n',\n",
       " '\\\\resumeSubHeadingList\\n',\n",
       " '  \\\\resumeSubheading\\n',\n",
       " '      {AI Research Intern}{June 2022 -- Aug 2022}\\n',\n",
       " '      {DeepMind}{London, UK}\\n',\n",
       " '      \\\\resumeSubHeadingList\\n',\n",
       " '          \\\\resumeItem{\\\\textbullet\\\\ Conducted research on reinforcement learning algorithms for robotics}\\n',\n",
       " '          \\\\resumeItem{\\\\textbullet\\\\ Implemented and evaluated deep RL models using PyTorch and RLlib}\\n',\n",
       " '          \\\\resumeItem{\\\\textbullet\\\\ Presented findings at weekly research meetings}\\n',\n",
       " '      \\\\resumeSubHeadingListEnd\\n',\n",
       " '  \\\\resumeSubheading\\n',\n",
       " '      {Machine Learning Engineer}{Jan 2021 -- May 2022}\\n',\n",
       " '      {Acme AI Solutions}{San Francisco, CA}\\n',\n",
       " '      \\\\resumeSubHeadingList\\n',\n",
       " '          \\\\resumeItem{\\\\textbullet\\\\ Developed and deployed machine learning models for various industries}\\n',\n",
       " '          \\\\resumeItem{\\\\textbullet\\\\ Optimized model performance and ensured data quality}\\n',\n",
       " '          \\\\resumeItem{\\\\textbullet\\\\ Collaborated with cross-functional teams to deliver AI solutions}\\n',\n",
       " '      \\\\resumeSubHeadingListEnd\\n',\n",
       " '\\\\resumeSubHeadingListEnd\\n',\n",
       " '\\n',\n",
       " '\\\\section{Education}\\n',\n",
       " '\\\\resumeSubHeadingList\\n',\n",
       " '  \\\\resumeSubheading\\n',\n",
       " '      {Stanford University}{Stanford, CA}\\n',\n",
       " '      {M.S. in Computer Science, Artificial Intelligence}{Aug 2019 -- May 2021}\\n',\n",
       " '  \\\\resumeSubheading\\n',\n",
       " '      {University of California, Berkeley}{Berkeley, CA}\\n',\n",
       " '      {B.S. in Electrical Engineering and Computer Science}{Aug 2015 -- May 2019}\\n',\n",
       " '\\\\resumeSubHeadingListEnd\\n',\n",
       " '\\n',\n",
       " '\\\\section{Certifications}\\n',\n",
       " '\\\\resumeSubHeadingList\\n',\n",
       " '  \\\\resumeItem{\\\\textbullet\\\\ AWS Certified Machine Learning - Specialty}\\n',\n",
       " '  \\\\resumeItem{\\\\textbullet\\\\ TensorFlow Developer Certificate}\\n',\n",
       " '\\\\resumeSubHeadingListEnd\\n',\n",
       " '\\n',\n",
       " '\\\\end{document}']"
      ]
     },
     "execution_count": 33,
     "metadata": {},
     "output_type": "execute_result"
    }
   ],
   "source": [
    "content"
   ]
  },
  {
   "cell_type": "code",
   "execution_count": null,
   "metadata": {},
   "outputs": [],
   "source": []
  }
 ],
 "metadata": {
  "kernelspec": {
   "display_name": "venv",
   "language": "python",
   "name": "python3"
  },
  "language_info": {
   "codemirror_mode": {
    "name": "ipython",
    "version": 3
   },
   "file_extension": ".py",
   "mimetype": "text/x-python",
   "name": "python",
   "nbconvert_exporter": "python",
   "pygments_lexer": "ipython3",
   "version": "3.11.9"
  }
 },
 "nbformat": 4,
 "nbformat_minor": 2
}
