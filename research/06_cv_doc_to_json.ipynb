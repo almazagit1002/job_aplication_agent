{
 "cells": [
  {
   "cell_type": "code",
   "execution_count": 1,
   "metadata": {},
   "outputs": [],
   "source": [
    "import os"
   ]
  },
  {
   "cell_type": "code",
   "execution_count": 2,
   "metadata": {},
   "outputs": [],
   "source": [
    "os.chdir(\"../\")"
   ]
  },
  {
   "cell_type": "code",
   "execution_count": 3,
   "metadata": {},
   "outputs": [],
   "source": [
    "from dataclasses import dataclass \n",
    "from pathlib import Path\n",
    "from typing import Union\n",
    "\n",
    "\n",
    "@dataclass(frozen=True)\n",
    "class CvToJsonConfig:\n",
    "    cv_path: Union[Path, str]\n",
    "    example_json_path: Union[Path, str]\n",
    "    edited_json_path : Union[Path,str]\n",
    "    model: str\n",
    "    cv_to_json_prompt_templates:dict\n",
    "\n",
    "    def __post_init__(self):\n",
    "        # Convert string paths to Path objects\n",
    "        object.__setattr__(self, 'cv_path', Path(self.cv_path))\n",
    "        object.__setattr__(self, 'example_json_path', Path(self.example_json_path))\n",
    "        object.__setattr__(self, 'edited_json_path', Path(self.edited_json_path))\n",
    "       \n"
   ]
  },
  {
   "cell_type": "code",
   "execution_count": 4,
   "metadata": {},
   "outputs": [],
   "source": [
    "import json\n",
    "\n",
    "from PyPDF2 import PdfReader\n",
    "from pathlib import Path\n",
    "from langchain_groq import ChatGroq\n",
    "from langchain_core.prompts import PromptTemplate\n",
    "from langchain_core.output_parsers import StrOutputParser,JsonOutputParser\n",
    "\n",
    "from job_aplication_agent.constants import *\n",
    "from job_aplication_agent import logger\n",
    "from job_aplication_agent.utils.common import  load_json,read_yaml,read_file,save_file"
   ]
  },
  {
   "cell_type": "code",
   "execution_count": 5,
   "metadata": {},
   "outputs": [],
   "source": [
    "class ConfigurationManager: \n",
    "    def __init__(\n",
    "            self,\n",
    "            config_filepath = CONFIG_FILE_PATH,\n",
    "            models_filepath = MODELS_FILE_PATH,\n",
    "            prompt_template = PROMPT_FILE_PATH):\n",
    "            self.config = read_yaml(config_filepath)\n",
    "            self.models = read_yaml(models_filepath)\n",
    "            self.prompt_template = read_yaml(prompt_template)\n",
    "\n",
    "    def get_cv_to_json_config(self) -> CvToJsonConfig:\n",
    "          create_cv_to_json_config = CvToJsonConfig(\n",
    "                cv_path = self.config.Cv_to_json.cv_path,\n",
    "                example_json_path = self.config.Cv_to_json.example_json_path,\n",
    "                edited_json_path = self.config.Cv_to_json.edited_json_path,\n",
    "                model= self.models.Llama3,\n",
    "                cv_to_json_prompt_templates = self.prompt_template.cv_to_json_prompt_templates\n",
    "                )\n",
    "          return create_cv_to_json_config\n",
    "          \n",
    "    \n"
   ]
  },
  {
   "cell_type": "code",
   "execution_count": 6,
   "metadata": {},
   "outputs": [],
   "source": [
    "class GetCvToJson:\n",
    "    def __init__(self, config:CvToJsonConfig):\n",
    "        self.config = config\n",
    "        \n",
    "    def create_cv_to_json_agent(self):\n",
    "        llm = ChatGroq(temperature=0,model_name = self.config.model)\n",
    "        logger.info(f\"create_cv_to_json_agent Llm initialized\")\n",
    "        try: \n",
    "            cv_pdf_to_json_prompt = PromptTemplate(\n",
    "                template=self.config.cv_to_json_prompt_templates.cv_to_json_prompt_template,\n",
    "                input_variables=[\"CV\", \"JSON\"]\n",
    "            )\n",
    "            self.cv_to_json_agent = cv_pdf_to_json_prompt | llm | JsonOutputParser()\n",
    "            logger.info(\"Cv to Json Agent created\")\n",
    "        except Exception as e:\n",
    "            logger.error(f\"Creating Cv to Json Agent error: {e}\")\n",
    "    \n",
    "    def get_cv(self):\n",
    "        try: \n",
    "            with open(self.config.cv_path, 'rb') as file:\n",
    "                reader = PdfReader(file)\n",
    "            \n",
    "                # Loop through all the pages and extract text\n",
    "                cv_content = []\n",
    "                for i, page in enumerate(reader.pages):\n",
    "                    content = page.extract_text()\n",
    "                    cv_content.append(content)\n",
    "            \n",
    "            full_cv_content = ''.join(cv_content)\n",
    "            logger.info(f\"Cv loaded\")\n",
    "            return full_cv_content\n",
    "        except Exception as e:\n",
    "            logger.error(f\"Error loading cv from {self.config.cv_path} with error {e}\")\n",
    "        \n",
    "        \n",
    "\n",
    "    def get_json(self):\n",
    "        try:\n",
    "            example_json = load_json(self.config.example_json_path)\n",
    "            example_json_str = json.dumps(example_json)\n",
    "            logger.info(f\"Json example loaded\")\n",
    "            return example_json_str\n",
    "        except Exception as e:\n",
    "            logger.error(f\"Error loading json from {self.config.example_json_path} with error {e}\")\n",
    "        \n",
    "\n",
    "    def get_cv_to_json(self,CV,JSON):\n",
    "        try:\n",
    "            cv_to_json = self.cv_to_json_agent.invoke({\n",
    "                \"CV\":CV,\n",
    "                \"JSON\":JSON\n",
    "                })\n",
    "            logger.info(f\"Cv to json succefully obtained\")\n",
    "            # Saving the dictionary to a JSON file\n",
    "            with open(self.config.edited_json_path, 'w') as json_file:\n",
    "                json.dump(cv_to_json, json_file, indent=4)\n",
    "            logger.info(f\"Edited json saved in {self.config.edited_json_path}\")\n",
    "        except Exception as e:\n",
    "            logger.error(f\"Error getting cv to json {e}\")\n",
    "        \n",
    "        \n",
    "        \n",
    "        \n",
    "\n",
    "        \n"
   ]
  },
  {
   "cell_type": "code",
   "execution_count": 7,
   "metadata": {},
   "outputs": [
    {
     "name": "stdout",
     "output_type": "stream",
     "text": [
      "[2024-09-04 12:02:56,016: INFO: common: yaml file: config\\config.yaml loaded successfully:]\n",
      "[2024-09-04 12:02:56,019: INFO: common: yaml file: models.yaml loaded successfully:]\n",
      "[2024-09-04 12:02:56,029: INFO: common: yaml file: prompt_template.yaml loaded successfully:]\n",
      "[2024-09-04 12:02:56,117: INFO: 2345879886: Cv loaded:]\n",
      "[2024-09-04 12:02:56,120: INFO: common: json file loaded succesfully from: Cv_to_json\\cvjson.json:]\n",
      "[2024-09-04 12:02:56,122: INFO: 2345879886: Json example loaded:]\n",
      "[2024-09-04 12:02:56,983: INFO: 2345879886: create_cv_to_json_agent Llm initialized:]\n",
      "[2024-09-04 12:02:56,985: INFO: 2345879886: Cv to Json Agent created:]\n",
      "[2024-09-04 12:03:00,648: INFO: _client: HTTP Request: POST https://api.groq.com/openai/v1/chat/completions \"HTTP/1.1 200 OK\":]\n",
      "[2024-09-04 12:03:00,663: INFO: 2345879886: Cv to json succefully obtained:]\n",
      "[2024-09-04 12:03:00,666: INFO: 2345879886: Edited json saved in Cv_to_json\\edited_json.json:]\n"
     ]
    }
   ],
   "source": [
    "config = ConfigurationManager()\n",
    "cv_to_json_config = config.get_cv_to_json_config()\n",
    "cv_to_json = GetCvToJson(cv_to_json_config)\n",
    "CV = cv_to_json.get_cv()\n",
    "JSON = cv_to_json.get_json()\n",
    "cv_to_json.create_cv_to_json_agent()\n",
    "get_cv_to_json = cv_to_json.get_cv_to_json(CV,JSON)\n"
   ]
  }
 ],
 "metadata": {
  "kernelspec": {
   "display_name": "venv",
   "language": "python",
   "name": "python3"
  },
  "language_info": {
   "codemirror_mode": {
    "name": "ipython",
    "version": 3
   },
   "file_extension": ".py",
   "mimetype": "text/x-python",
   "name": "python",
   "nbconvert_exporter": "python",
   "pygments_lexer": "ipython3",
   "version": "3.11.9"
  }
 },
 "nbformat": 4,
 "nbformat_minor": 2
}
